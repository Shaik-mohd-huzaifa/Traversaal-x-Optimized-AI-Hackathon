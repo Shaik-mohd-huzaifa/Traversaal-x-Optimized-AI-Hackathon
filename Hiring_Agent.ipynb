{
 "cells": [
  {
   "cell_type": "markdown",
   "metadata": {
    "id": "hiring-agent-intro"
   },
   "source": [
    "# 🤖 AgentPro Hiring Assistant\n",
    "\n",
    "This notebook demonstrates how to build a Hiring Assistant using AgentPro that analyzes candidate profiles, resumes, and GitHub activity to provide detailed assessments for HR professionals.\n",
    "\n",
    "### Features:\n",
    "- Resume analysis from Google Drive URLs\n",
    "- GitHub profile analysis\n",
    "- Skills and experience matching\n",
    "- Detailed candidate persona generation\n",
    "- Company culture fit assessment\n"
   ]
  },
  {
   "cell_type": "markdown",
   "metadata": {
    "id": "clone-repo"
   },
   "source": [
    "## Step 1: Clone AgentPro and Install Dependencies\n",
    "\n",
    "To get started with **AgentPro**, begin by cloning the official GitHub repository and installing its dependencies."
   ]
  },
  {
   "cell_type": "code",
   "execution_count": null,
   "metadata": {
    "id": "clone-install"
   },
   "outputs": [],
   "source": [
    "# !git clone https://github.com/traversaal-ai/AgentPro.git\n",
    "%cd AgentPro\n",
    "%pip install -r requirements.txt\n",
    "%pip install gradio PyPDF2 python-docx beautifulsoup4 requests python-dotenv"
   ]
  },
  {
   "cell_type": "markdown",
   "metadata": {
    "id": "setup-api-keys"
   },
   "source": [
    "## Step 2: Set Up API Keys"
   ]
  },
  {
   "cell_type": "code",
   "execution_count": 10,
   "metadata": {
    "id": "set-api-keys"
   },
   "outputs": [],
   "source": [
    "import os\n",
    "from dotenv import load_dotenv\n",
    "\n",
    "# Load environment variables\n",
    "load_dotenv()\n",
    "\n",
    "os.environ[\"OPENAI_API_KEY\"] = \"OPENAI_API_KEY\"\n",
    "os.environ[\"TRAVERSAAL_ARES_API_KEY\"] = \"YOUR_TRAVERSAAL_API_KEY\""
   ]
  },
  {
   "cell_type": "markdown",
   "metadata": {
    "id": "create-agent"
   },
   "source": [
    "## Step 3: Create the Hiring Agent"
   ]
  },
  {
   "cell_type": "code",
   "execution_count": 11,
   "metadata": {
    "id": "hiring-agent-class"
   },
   "outputs": [],
   "source": [
    "from agentpro import AgentPro\n",
    "from agentpro.tools import AresInternetTool, CodeEngine\n",
    "import requests\n",
    "from bs4 import BeautifulSoup\n",
    "import PyPDF2\n",
    "import io\n",
    "import docx\n",
    "from typing import Dict, List, Optional\n",
    "\n",
    "class HiringAgent:\n",
    "    def __init__(self):\n",
    "        self.agent = AgentPro(tools=[AresInternetTool(), CodeEngine()])\n",
    "        \n",
    "    def extract_text_from_pdf(self, pdf_url: str) -> str:\n",
    "        \"\"\"Extract text from PDF file.\"\"\"\n",
    "        response = requests.get(pdf_url)\n",
    "        pdf_file = io.BytesIO(response.content)\n",
    "        pdf_reader = PyPDF2.PdfReader(pdf_file)\n",
    "        text = \"\"\n",
    "        for page in pdf_reader.pages:\n",
    "            text += page.extract_text()\n",
    "        return text\n",
    "    \n",
    "    def extract_text_from_docx(self, docx_url: str) -> str:\n",
    "        \"\"\"Extract text from DOCX file.\"\"\"\n",
    "        response = requests.get(docx_url)\n",
    "        docx_file = io.BytesIO(response.content)\n",
    "        doc = docx.Document(docx_file)\n",
    "        text = \"\"\n",
    "        for paragraph in doc.paragraphs:\n",
    "            text += paragraph.text + \"\\n\"\n",
    "        return text\n",
    "    \n",
    "    def analyze_github_profile(self, github_url: str) -> Dict:\n",
    "        \"\"\"Analyze GitHub profile and extract relevant information.\"\"\"\n",
    "        response = requests.get(github_url)\n",
    "        soup = BeautifulSoup(response.text, 'html.parser')\n",
    "        \n",
    "        # Extract basic information\n",
    "        name = soup.find('span', {'class': 'p-name'}).text.strip() if soup.find('span', {'class': 'p-name'}) else \"\"\n",
    "        bio = soup.find('div', {'class': 'p-note'}).text.strip() if soup.find('div', {'class': 'p-note'}) else \"\"\n",
    "        \n",
    "        # Extract repositories\n",
    "        repos = []\n",
    "        for repo in soup.find_all('a', {'data-hovercard-type': 'repository'})[:5]:\n",
    "            repos.append({\n",
    "                'name': repo.text.strip(),\n",
    "                'url': f\"https://github.com{repo['href']}\"\n",
    "            })\n",
    "        \n",
    "        return {\n",
    "            'name': name,\n",
    "            'bio': bio,\n",
    "            'repositories': repos\n",
    "        }\n",
    "    \n",
    "    def analyze_candidate(self, resume_url: str, github_url: str, job_description: str, company_info: str) -> Dict:\n",
    "        \"\"\"Analyze candidate profile and generate assessment.\"\"\"\n",
    "        # Extract resume text\n",
    "        if resume_url.endswith('.pdf'):\n",
    "            resume_text = self.extract_text_from_pdf(resume_url)\n",
    "        elif resume_url.endswith('.docx'):\n",
    "            resume_text = self.extract_text_from_docx(resume_url)\n",
    "        else:\n",
    "            resume_text = \"\"\n",
    "        \n",
    "        # Analyze GitHub profile\n",
    "        github_data = self.analyze_github_profile(github_url)\n",
    "        \n",
    "        # Generate assessment using AgentPro\n",
    "        prompt = f\"\"\"\n",
    "        Analyze this candidate profile and provide a detailed assessment:\n",
    "        \n",
    "        Resume Content:\n",
    "        {resume_text}\n",
    "        \n",
    "        GitHub Profile:\n",
    "        Name: {github_data['name']}\n",
    "        Bio: {github_data['bio']}\n",
    "        Top Repositories: {[repo['name'] for repo in github_data['repositories']]}\n",
    "        \n",
    "        Job Description:\n",
    "        {job_description}\n",
    "        \n",
    "        Company Information:\n",
    "        {company_info}\n",
    "        \n",
    "        Please provide:\n",
    "        1. Skills and experience match with job requirements\n",
    "        2. Technical proficiency assessment\n",
    "        3. Cultural fit analysis\n",
    "        4. Strengths and areas for development\n",
    "        5. Overall recommendation\n",
    "        \"\"\"\n",
    "        \n",
    "        assessment = self.agent(prompt)\n",
    "        \n",
    "        return {\n",
    "            'resume_analysis': resume_text,\n",
    "            'github_analysis': github_data,\n",
    "            'assessment': assessment\n",
    "        }"
   ]
  },
  {
   "cell_type": "markdown",
   "metadata": {
    "id": "create-simple-gradio"
   },
   "source": [
    "## Step 4: Create Simple Gradio Interface"
   ]
  },
  {
   "cell_type": "code",
   "execution_count": null,
   "metadata": {
    "id": "simple-gradio-interface"
   },
   "outputs": [],
   "source": [
    "import gradio as gr\n",
    "\n",
    "# Initialize the hiring agent\n",
    "hiring_agent = HiringAgent()\n",
    "\n",
    "def analyze_candidate(resume_url, github_url, job_description, company_info):\n",
    "    try:\n",
    "        result = hiring_agent.analyze_candidate(resume_url, github_url, job_description, company_info)\n",
    "        return result['assessment']\n",
    "    except Exception as e:\n",
    "        return f\"Error analyzing candidate: {str(e)}\"\n",
    "\n",
    "# Create a simple Gradio Interface\n",
    "with gr.Blocks(theme=gr.themes.Soft()) as app:\n",
    "    gr.Markdown(\"\"\"\n",
    "    # 🤖 AgentPro Hiring Assistant\n",
    "    Upload candidate details and get a detailed assessment for your hiring process.\n",
    "    \"\"\")\n",
    "    \n",
    "    with gr.Row():\n",
    "        with gr.Column(scale=1):\n",
    "            gr.Markdown(\"### 📝 Candidate Information\")\n",
    "            resume_url = gr.Textbox(\n",
    "                label=\"Resume URL\",\n",
    "                placeholder=\"Enter Google Drive URL of the resume\",\n",
    "                info=\"Paste the Google Drive URL of the candidate's resume\"\n",
    "            )\n",
    "            github_url = gr.Textbox(\n",
    "                label=\"GitHub Profile\",\n",
    "                placeholder=\"Enter GitHub profile URL\",\n",
    "                info=\"Paste the candidate's GitHub profile URL\"\n",
    "            )\n",
    "            \n",
    "            gr.Markdown(\"### 🏢 Job & Company Details\")\n",
    "            job_description = gr.Textbox(\n",
    "                label=\"Job Description\",\n",
    "                placeholder=\"Enter the job description\",\n",
    "                lines=5,\n",
    "                info=\"Describe the role and requirements\"\n",
    "            )\n",
    "            company_info = gr.Textbox(\n",
    "                label=\"Company Information\",\n",
    "                placeholder=\"Enter company details and culture\",\n",
    "                lines=3,\n",
    "                info=\"Describe the company culture and environment\"\n",
    "            )\n",
    "            \n",
    "            analyze_btn = gr.Button(\"Analyze Candidate\", variant=\"primary\")\n",
    "        \n",
    "        with gr.Column(scale=2):\n",
    "            gr.Markdown(\"### 📊 Assessment Results\")\n",
    "            output = gr.Markdown\n",
    "    \n",
    "    # Add example inputs\n",
    "    gr.Markdown(\"### 💡 Example Inputs\")\n",
    "    gr.Examples(\n",
    "        examples=[\n",
    "            [\n",
    "                \"https://drive.google.com/example-resume.pdf\",\n",
    "                \"https://github.com/example-user\",\n",
    "                \"Looking for a Senior Python Developer with 5+ years of experience in web development, machine learning, and cloud technologies. Must have strong problem-solving skills and experience with agile methodologies.\",\n",
    "                \"Tech startup focused on AI solutions, fast-paced environment, collaborative culture, emphasis on innovation and continuous learning.\"\n",
    "            ]\n",
    "        ],\n",
    "        inputs=[resume_url, github_url, job_description, company_info],\n",
    "        outputs=[output],\n",
    "        fn=analyze_candidate,\n",
    "        cache_examples=True\n",
    "    )\n",
    "    \n",
    "    # Add footer\n",
    "    gr.Markdown(\"\"\"\n",
    "    ---\n",
    "    *Powered by AgentPro - An AI-powered hiring assistant*\n",
    "    \"\"\")\n",
    "    \n",
    "    # Connect the analyze button\n",
    "    analyze_btn.click(\n",
    "        fn=analyze_candidate,\n",
    "        inputs=[resume_url, github_url, job_description, company_info],\n",
    "        outputs=[output]\n",
    "    )\n",
    "\n",
    "# Launch the app\n",
    "app.launch(share=True)"
   ]
  }
 ],
 "metadata": {
  "colab": {
   "provenance": []
  },
  "kernelspec": {
   "display_name": "venv",
   "language": "python",
   "name": "python3"
  },
  "language_info": {
   "codemirror_mode": {
    "name": "ipython",
    "version": 3
   },
   "file_extension": ".py",
   "mimetype": "text/x-python",
   "name": "python",
   "nbconvert_exporter": "python",
   "pygments_lexer": "ipython3",
   "version": "3.13.2"
  }
 },
 "nbformat": 4,
 "nbformat_minor": 0
}
