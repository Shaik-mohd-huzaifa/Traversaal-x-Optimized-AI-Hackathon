{
 "cells": [
  {
   "cell_type": "markdown",
   "metadata": {
    "id": "CyxnkWVzhqOi"
   },
   "source": [
    "# 🤖 AgentPro Interview Task Generator\n",
    "\n",
    "This notebook demonstrates how to use AgentPro to generate interview tasks and create presentation slides based on job descriptions and candidate details.\n",
    "\n",
    "### Features:\n",
    "- Generate interview tasks based on job description\n",
    "- Create presentation slides with tasks\n",
    "- Customize tasks based on candidate persona\n",
    "- Export tasks as PowerPoint presentation"
   ]
  },
  {
   "cell_type": "markdown",
   "metadata": {
    "id": "Fi5Eth4ge70O"
   },
   "source": [
    "## Step 1: Install Dependencies\n",
    "\n",
    "First, let's install the required packages."
   ]
  },
  {
   "cell_type": "code",
   "execution_count": null,
   "metadata": {
    "id": "ZCZC5Z3wzNNu"
   },
   "outputs": [],
   "source": [
    "!pip install gradio python-pptx"
   ]
  },
  {
   "cell_type": "markdown",
   "metadata": {
    "id": "SLfWC5m9fUpT"
   },
   "source": [
    "## Step 2: Set Your API Keys\n",
    "\n",
    "Set your OpenAI API key to use the language model."
   ]
  },
  {
   "cell_type": "code",
   "execution_count": null,
   "metadata": {
    "id": "4tV4Qe1RUGcI"
   },
   "outputs": [],
   "source": [
    "import os\n",
    "os.environ[\"OPENAI_API_KEY\"] = \"\""
   ]
  },
  {
   "cell_type": "markdown",
   "metadata": {
    "id": "Ie2HiLZ6Zjsj"
   },
   "source": [
    "## Step 3: Create the Interview Task Generator\n",
    "\n",
    "Let's create a function that generates interview tasks and creates slides."
   ]
  },
  {
   "cell_type": "code",
   "execution_count": null,
   "metadata": {
    "id": "pf8Y3xCcWhyl"
   },
   "outputs": [],
   "source": [
    "from agentpro import AgentPro\n",
    "from agentpro.tools.slide_tool import SlideGenerationTool\n",
    "import gradio as gr\n",
    "import json\n",
    "\n",
    "# Initialize the agent with slide generation tool\n",
    "agent = AgentPro(tools=[SlideGenerationTool()])\n",
    "\n",
    "def generate_interview_tasks(job_description, candidate_persona):\n",
    "    # Generate tasks using the agent\n",
    "    prompt = f\"\"\"\n",
    "    Based on the following job description and candidate persona, generate 5 interview tasks.\n",
    "    Format each task as a slide with a title and detailed content.\n",
    "    Make the tasks challenging but fair, and relevant to the role.\n",
    "    \n",
    "    Job Description:\n",
    "    {job_description}\n",
    "    \n",
    "    Candidate Persona:\n",
    "    {candidate_persona}\n",
    "    \n",
    "    Return the tasks in JSON format with the following structure:\n",
    "    [\n",
    "        {{\"slide_title\": \"Task 1 Title\", \"content\": \"Task 1 detailed description\"}},\n",
    "        {{\"slide_title\": \"Task 2 Title\", \"content\": \"Task 2 detailed description\"}},\n",
    "        ...\n",
    "    ]\n",
    "    \"\"\"\n",
    "    \n",
    "    # Get response from agent\n",
    "    response = agent(prompt)\n",
    "    \n",
    "    # Try to parse the response as JSON\n",
    "    try:\n",
    "        tasks = json.loads(response)\n",
    "        # Generate slides\n",
    "        slide_tool = SlideGenerationTool()\n",
    "        result = slide_tool.run(tasks)\n",
    "        return result\n",
    "    except json.JSONDecodeError:\n",
    "        return \"Error: Could not generate tasks in the correct format.\"\n",
    "\n",
    "# Create Gradio Interface\n",
    "with gr.Blocks() as app:\n",
    "    gr.Markdown(\"## 🤖 Interview Task Generator\")\n",
    "    gr.Markdown(\"Generate interview tasks and create presentation slides based on job description and candidate details.\")\n",
    "    \n",
    "    with gr.Row():\n",
    "        with gr.Column():\n",
    "            job_desc = gr.Textbox(\n",
    "                label=\"Job Description\",\n",
    "                placeholder=\"Enter the job description here...\",\n",
    "                lines=10\n",
    "            )\n",
    "            candidate_info = gr.Textbox(\n",
    "                label=\"Candidate Persona\",\n",
    "                placeholder=\"Enter candidate details (experience, skills, background)...\",\n",
    "                lines=5\n",
    "            )\n",
    "            generate_btn = gr.Button(\"Generate Tasks\")\n",
    "        \n",
    "        with gr.Column():\n",
    "            output = gr.Textbox(label=\"Output\")\n",
    "    \n",
    "    # Example inputs\n",
    "    gr.Examples(\n",
    "        examples=[\n",
    "            [\n",
    "                \"Software Engineer position requiring 3+ years of experience in Python, Django, and React. The role involves developing web applications, implementing REST APIs, and working with databases.\",\n",
    "                \"Candidate has 4 years of experience in web development, strong Python skills, and experience with Django and React. They have worked on e-commerce platforms and have a computer science degree.\"\n",
    "            ],\n",
    "            [\n",
    "                \"Data Scientist position requiring expertise in machine learning, Python, and data analysis. The role involves building predictive models, analyzing large datasets, and presenting insights to stakeholders.\",\n",
    "                \"Candidate has 5 years of experience in data science, strong Python and SQL skills, and experience with machine learning frameworks. They have worked in the healthcare industry and have a master's degree in data science.\"\n",
    "            ]\n",
    "        ],\n",
    "        inputs=[job_desc, candidate_info],\n",
    "        outputs=output,\n",
    "        fn=generate_interview_tasks,\n",
    "        cache_examples=True\n",
    "    )\n",
    "    \n",
    "    generate_btn.click(\n",
    "        fn=generate_interview_tasks,\n",
    "        inputs=[job_desc, candidate_info],\n",
    "        outputs=output\n",
    "    )\n",
    "\n",
    "# Launch the app\n",
    "app.launch(share=True)"
   ]
  }
 ],
 "metadata": {
  "colab": {
   "provenance": []
  },
  "kernelspec": {
   "display_name": "Python 3",
   "name": "python3"
  },
  "language_info": {
   "name": "python"
  }
 },
 "nbformat": 4,
 "nbformat_minor": 0
}
